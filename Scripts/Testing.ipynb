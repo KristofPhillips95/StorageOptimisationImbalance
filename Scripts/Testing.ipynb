{
 "cells": [
  {
   "cell_type": "code",
   "execution_count": 9,
   "id": "0da18741-a785-43d9-9584-c38a582d6aa0",
   "metadata": {},
   "outputs": [],
   "source": [
    "import requests\n",
    "import json\n",
    "import datetime"
   ]
  },
  {
   "cell_type": "code",
   "execution_count": 2,
   "id": "7903b611-819d-48ea-a8ca-20de412d936b",
   "metadata": {
    "scrolled": true
   },
   "outputs": [
    {
     "name": "stderr",
     "output_type": "stream",
     "text": [
      "C:\\Users\\u0138303\\OneDrive - KU Leuven\\StorageOptimisationImbalance\\Scripts\\decorators.py:17: FutureWarning: Argument `closed` is deprecated in favor of `inclusive`.\n",
      "  dates = pd.date_range(start, end, freq=freq, closed=\"left\")  # Python 3.9 or below\n",
      "C:\\Users\\u0138303\\OneDrive - KU Leuven\\StorageOptimisationImbalance\\Scripts\\Data_Elia_API.py:354: SettingWithCopyWarning: \n",
      "A value is trying to be set on a copy of a slice from a DataFrame\n",
      "\n",
      "See the caveats in the documentation: https://pandas.pydata.org/pandas-docs/stable/user_guide/indexing.html#returning-a-view-versus-a-copy\n",
      "  return_df.loc[len(df_qh)] = [latest_qh,est_SI_current]\n",
      "C:\\Users\\u0138303\\OneDrive - KU Leuven\\StorageOptimisationImbalance\\Scripts\\Data_Elia_API.py:59: SettingWithCopyWarning: \n",
      "A value is trying to be set on a copy of a slice from a DataFrame\n",
      "\n",
      "See the caveats in the documentation: https://pandas.pydata.org/pandas-docs/stable/user_guide/indexing.html#returning-a-view-versus-a-copy\n",
      "  df.rename(columns={'systemimbalance': datapoint},inplace=True)\n",
      "C:\\Users\\u0138303\\OneDrive - KU Leuven\\StorageOptimisationImbalance\\Scripts\\Data_Elia_API.py:260: SettingWithCopyWarning: \n",
      "A value is trying to be set on a copy of a slice from a DataFrame.\n",
      "Try using .loc[row_indexer,col_indexer] = value instead\n",
      "\n",
      "See the caveats in the documentation: https://pandas.pydata.org/pandas-docs/stable/user_guide/indexing.html#returning-a-view-versus-a-copy\n",
      "  df['realtime'] = df['realtime'].mask((df['realtime']==0) & (df['datetime']>dt_last_nonzero_rt),df['mostrecentforecast'])\n"
     ]
    },
    {
     "name": "stdout",
     "output_type": "stream",
     "text": [
      "realtime\n",
      "mostrecentforecast\n",
      "dayahead11hforecast\n",
      "realtime\n",
      "mostrecentforecast\n",
      "dayahead11hforecast\n",
      "realtime\n",
      "mostrecentforecast\n",
      "dayahead11hforecast\n",
      "realtime\n",
      "mostrecentforecast\n",
      "dayahead11hforecast\n"
     ]
    },
    {
     "name": "stderr",
     "output_type": "stream",
     "text": [
      "C:\\Users\\u0138303\\OneDrive - KU Leuven\\StorageOptimisationImbalance\\Scripts\\Data_Elia_API.py:227: SettingWithCopyWarning: \n",
      "A value is trying to be set on a copy of a slice from a DataFrame.\n",
      "Try using .loc[row_indexer,col_indexer] = value instead\n",
      "\n",
      "See the caveats in the documentation: https://pandas.pydata.org/pandas-docs/stable/user_guide/indexing.html#returning-a-view-versus-a-copy\n",
      "  df['realtime'] = np.maximum(df['realtime'].mask(df['realtime'].isna(),df['mostrecentforecast']+rt_vs_mrf),0)\n"
     ]
    },
    {
     "name": "stdout",
     "output_type": "stream",
     "text": [
      "realtime\n",
      "mostrecentforecast\n",
      "dayahead11hforecast\n",
      "realtime\n",
      "mostrecentforecast\n",
      "dayahead11hforecast\n",
      "realtime\n",
      "mostrecentforecast\n",
      "dayahead11hforecast\n",
      "realtime\n",
      "mostrecentforecast\n",
      "dayahead11hforecast\n"
     ]
    },
    {
     "name": "stderr",
     "output_type": "stream",
     "text": [
      "C:\\Users\\u0138303\\OneDrive - KU Leuven\\StorageOptimisationImbalance\\Scripts\\decorators.py:17: FutureWarning: Argument `closed` is deprecated in favor of `inclusive`.\n",
      "  dates = pd.date_range(start, end, freq=freq, closed=\"left\")  # Python 3.9 or below\n",
      "C:\\Users\\u0138303\\OneDrive - KU Leuven\\StorageOptimisationImbalance\\Scripts\\Data_Elia_API.py:314: SettingWithCopyWarning: \n",
      "A value is trying to be set on a copy of a slice from a DataFrame.\n",
      "Try using .loc[row_indexer,col_indexer] = value instead\n",
      "\n",
      "See the caveats in the documentation: https://pandas.pydata.org/pandas-docs/stable/user_guide/indexing.html#returning-a-view-versus-a-copy\n",
      "  df['measured'] = df['measured'].mask(df['measured'].isna(),df['mostrecentforecast']*rt_vs_mrf_rel)\n",
      "C:\\Users\\u0138303\\OneDrive - KU Leuven\\StorageOptimisationImbalance\\Scripts\\decorators.py:17: FutureWarning: Argument `closed` is deprecated in favor of `inclusive`.\n",
      "  dates = pd.date_range(start, end, freq=freq, closed=\"left\")  # Python 3.9 or below\n"
     ]
    },
    {
     "name": "stdout",
     "output_type": "stream",
     "text": [
      "realtime\n",
      "mostrecentforecast\n",
      "dayahead11hforecast\n",
      "realtime\n",
      "mostrecentforecast\n",
      "dayahead11hforecast\n",
      "realtime\n",
      "mostrecentforecast\n",
      "dayahead11hforecast\n",
      "realtime\n",
      "mostrecentforecast\n",
      "dayahead11hforecast\n",
      "realtime\n",
      "mostrecentforecast\n",
      "dayahead11hforecast\n",
      "realtime\n",
      "mostrecentforecast\n",
      "dayahead11hforecast\n",
      "realtime\n",
      "mostrecentforecast\n",
      "dayahead11hforecast\n",
      "realtime\n",
      "mostrecentforecast\n",
      "dayahead11hforecast\n",
      "realtime\n",
      "mostrecentforecast\n",
      "dayahead11hforecast\n",
      "realtime\n",
      "mostrecentforecast\n",
      "dayahead11hforecast\n"
     ]
    },
    {
     "name": "stderr",
     "output_type": "stream",
     "text": [
      "C:\\Users\\u0138303\\OneDrive - KU Leuven\\StorageOptimisationImbalance\\Scripts\\decorators.py:17: FutureWarning: Argument `closed` is deprecated in favor of `inclusive`.\n",
      "  dates = pd.date_range(start, end, freq=freq, closed=\"left\")  # Python 3.9 or below\n"
     ]
    },
    {
     "name": "stdout",
     "output_type": "stream",
     "text": [
      "Total time for loading data: 11.444528818130493s\n",
      "(-7.3380833333333335, Timestamp('2023-12-02 00:00:00+0000', tz='UTC'))\n"
     ]
    }
   ],
   "source": [
    "import predict_imb_price\n",
    "\n",
    "SI_FC, last_si, quantiles = predict_imb_price.pred_SI(dev='cpu')\n",
    "\n",
    "print(last_si)\n"
   ]
  },
  {
   "cell_type": "code",
   "execution_count": 3,
   "id": "e6abe1eb-2bf3-41ee-972c-6a6aaecd0f6f",
   "metadata": {},
   "outputs": [
    {
     "data": {
      "text/plain": [
       "9"
      ]
     },
     "execution_count": 3,
     "metadata": {},
     "output_type": "execute_result"
    }
   ],
   "source": [
    "len(quantiles)"
   ]
  },
  {
   "cell_type": "code",
   "execution_count": 6,
   "id": "4231c499-7a28-4089-a27b-40283cba2f5b",
   "metadata": {},
   "outputs": [
    {
     "data": {
      "text/plain": [
       "(array([-431.18643, -334.8008 , -284.54404, -202.64388, -114.62644,\n",
       "         -32.22912,   37.55415,   80.36451,  165.76802], dtype=float32),\n",
       " -7.3380833333333335)"
      ]
     },
     "execution_count": 6,
     "metadata": {},
     "output_type": "execute_result"
    }
   ],
   "source": [
    "SI_FC[1,:],last_si[0]"
   ]
  },
  {
   "cell_type": "code",
   "execution_count": 11,
   "id": "e3fc2431-ecdc-4a76-a523-cb1de00d93cc",
   "metadata": {},
   "outputs": [
    {
     "name": "stdout",
     "output_type": "stream",
     "text": [
      "Writing now to API: 2023-12-02 00:00:00+00:00\n",
      "\"Put item 10\"\n"
     ]
    }
   ],
   "source": [
    "id = 10\n",
    "api_link = \"https://swdd9r1vei.execute-api.eu-north-1.amazonaws.com/items\"\n",
    "\n",
    "prices_fc_spread = dict()\n",
    "\n",
    "prices_fc_spread = dict()\n",
    "last_si_time = last_si[1]\n",
    "fc_times = [(last_si_time + datetime.timedelta(minutes=15 * fc_step)).strftime(\"%H:%M:%S\") for fc_step in range(8)]\n",
    "\n",
    "for i, fc_time in enumerate(fc_times):\n",
    "    prices_fc_spread[fc_time] = [str(SI_FC[i,q]) for q in range(SI_FC.shape[1]) ]\n",
    "\n",
    "\n",
    "data = {\n",
    "    \"id\": id,\n",
    "    \"time\": last_si_time.strftime('%Y-%m-%d %H:%M:%S'),\n",
    "    \"imba_price\": last_si[0],\n",
    "    \"imba_price_fc\": 1,\n",
    "    \"charge\": 1,\n",
    "    \"soc\": 1,\n",
    "    \"fc_spread\": prices_fc_spread,\n",
    "    \"quantiles\": quantiles\n",
    "}\n",
    "\n",
    "# data = {\n",
    "#     \"id\": id * j,\n",
    "#     \"time\": some_time_str,\n",
    "#     \"imba_price\": imba_price,\n",
    "#     \"imba_price_fc\": imba_price_fc,\n",
    "#     \"charge\": charge,\n",
    "#     \"soc\": soc,\n",
    "#     \"fc_spread\": prices_fc_spread\n",
    "# }\n",
    "\n",
    "print(f\"Writing now to API:\",last_si_time)\n",
    "\n",
    "response = requests.put(api_link, json=data)\n",
    "print(response.text)"
   ]
  },
  {
   "cell_type": "code",
   "execution_count": 49,
   "id": "794b447b-d828-4ed8-8841-7be4d33dcc55",
   "metadata": {},
   "outputs": [
    {
     "data": {
      "text/plain": [
       "'19:30:00'"
      ]
     },
     "execution_count": 49,
     "metadata": {},
     "output_type": "execute_result"
    }
   ],
   "source": []
  },
  {
   "cell_type": "code",
   "execution_count": 39,
   "id": "b7db5e91-f597-4891-bece-5a39144f65e8",
   "metadata": {},
   "outputs": [],
   "source": [
    "import datetime\n",
    "import pandas as pd\n",
    "import os\n",
    "import requests\n",
    "import numpy as np\n",
    "\n",
    "api_link = \"https://swdd9r1vei.execute-api.eu-north-1.amazonaws.com/items\"\n",
    "ids = [1, 2, 3, 4, 5, 6, 7, 8, 9, 10]\n",
    "prices = [0, 100, 50, 40, 200, 100, 20, 0, 100, 100]\n",
    "prices_fc = [10, 90, 100, 30, 180, 200, 80, 0, 40, 0]\n",
    "\n",
    "median_fc = np.median(prices_fc)\n",
    "charges = [1 if fc < median_fc else -1 for fc in prices_fc]\n",
    "\n",
    "socs = [5]\n",
    "soc = 5\n",
    "\n",
    "time = datetime.datetime.now()\n",
    "time_str = time.strftime(\"%H:%M:%S\")\n",
    "\n",
    "for charge in charges:\n",
    "    soc = soc + charge\n",
    "    socs.append(soc)\n",
    "\n",
    "\n",
    "for j in range(1, 2, 1):\n",
    "    for id, imba_price, imba_price_fc, charge, soc in zip(ids, prices, prices_fc, charges, socs):\n",
    "        some_time = time + datetime.timedelta(minutes=15 * id)\n",
    "        some_time_str = some_time.strftime(\"%H:%M:%S\")\n",
    "        prices_fc_spread = dict()\n",
    "        fc_times = [(some_time + datetime.timedelta(minutes=15 * fc_step)).strftime(\"%H:%M:%S\") for fc_step in range(8)]\n",
    "\n",
    "        for i, fc_time in enumerate(fc_times):\n",
    "            prices_fc_spread[fc_time] = [imba_price * 0.9 ** i, imba_price * 1.1 ** i]\n",
    "\n",
    "        data = {\n",
    "            \"id\": id * j,\n",
    "            \"time\": some_time_str,\n",
    "            \"imba_price\": imba_price,\n",
    "            \"imba_price_fc\": imba_price_fc,\n",
    "            \"charge\": charge,\n",
    "            \"soc\": soc,\n",
    "            \"fc_spread\": prices_fc_spread\n",
    "        }\n",
    "\n",
    "        # print(f\"Testing API get\", current_time)\n",
    "        # #\n",
    "        # # response = requests.get(\"https://swdd9r1vei.execute-api.eu-north-1.amazonaws.com/items\")\n",
    "        # # print(response.text)\n",
    "        #\n",
    "        if id ==\"1\":\n",
    "            print(f\"Writing now to API:\", some_time_str)\n",
    "    \n",
    "            response = requests.put(api_link, json=data)\n",
    "            print(response.text)"
   ]
  }
 ],
 "metadata": {
  "kernelspec": {
   "display_name": "Python 3 (ipykernel)",
   "language": "python",
   "name": "python3"
  },
  "language_info": {
   "codemirror_mode": {
    "name": "ipython",
    "version": 3
   },
   "file_extension": ".py",
   "mimetype": "text/x-python",
   "name": "python",
   "nbconvert_exporter": "python",
   "pygments_lexer": "ipython3",
   "version": "3.9.16"
  }
 },
 "nbformat": 4,
 "nbformat_minor": 5
}
